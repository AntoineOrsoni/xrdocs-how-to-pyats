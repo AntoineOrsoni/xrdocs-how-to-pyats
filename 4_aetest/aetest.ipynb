{
 "cells": [
  {
   "attachments": {},
   "cell_type": "markdown",
   "metadata": {},
   "source": [
    "## Test result -> failing a test\n",
    "\n",
    "https://pubhub.devnetcloud.com/media/pyats/docs/aetest/results.html\n",
    "\n",
    "```\n",
    "TestItem.passed(reason, goto, from_exception, data)\n",
    "# When `passed`, all other tests/connections are skipped. Carreful when you put it in a loop\n",
    "\n",
    "TestItem.failed(reason, goto, from_exception, data)\n",
    "\n",
    "TestItem.errored(reason, goto, from_exception, data)\n",
    "\n",
    "TestItem.skipped(reason, goto, from_exception, data)\n",
    "\n",
    "TestItem.blocked(reason, goto, from_exception, data)\n",
    "\n",
    "TestItem.aborted(reason, goto, from_exception, data)\n",
    "\n",
    "TestItem.passx(reason, goto, from_exception, data)\n",
    "````\n",
    "\n",
    "reason, describing the conditions & reasons of why this result is provided.\n",
    "\n",
    "goto, list of sections to “go to” after this section. Refer to Goto documentation for details.\n",
    "\n",
    "from_exception, accepts an exception object and will add the traceback of this exception to the result’s reason.\n",
    "\n",
    "data, accepts a dict of arbitrary data that is relevant to the result. A representation of this data is stored by the Reporter for external processing or reference."
   ]
  },
  {
   "attachments": {},
   "cell_type": "markdown",
   "metadata": {},
   "source": [
    "## Example\n",
    "\n",
    "```python\n",
    "# using common setup as an example for a change\n",
    "class CommonSetup(aetest.CommonSetup):\n",
    "\n",
    "    @aetest.subsection\n",
    "    def subsection_that_passes(self):\n",
    "        self.passed(\"failure is not an option\")\n",
    "\n",
    "        # any code after a result api is not executed\n",
    "        evenThisAPICallThatDoesNotExist()\n",
    "\n",
    "    @aetest.subsection\n",
    "    def subsection_that_fails(self):\n",
    "        self.failed(\"failure... is a must in this test\")\n",
    "\n",
    "    @aetest.subsection\n",
    "    def subsection_that_is_skipped(self):\n",
    "        self.skipped(\"i don't want to run this section.\")\n",
    "```"
   ]
  },
  {
   "cell_type": "code",
   "execution_count": null,
   "metadata": {},
   "outputs": [],
   "source": []
  }
 ],
 "metadata": {
  "language_info": {
   "name": "python"
  },
  "orig_nbformat": 4
 },
 "nbformat": 4,
 "nbformat_minor": 2
}
